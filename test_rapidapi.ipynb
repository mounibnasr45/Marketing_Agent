{
 "cells": [
  {
   "cell_type": "code",
   "execution_count": 2,
   "id": "f415d6bd",
   "metadata": {},
   "outputs": [
    {
     "name": "stdout",
     "output_type": "stream",
     "text": [
      "Base64 Encoded Credentials: bW9oYW1tZWRAc2t5bGlnaHRhZC5jb206NGI0NjNhNTI0OTUzNWZiMQ==\n"
     ]
    }
   ],
   "source": [
    "import base64\n",
    "\n",
    "# Replace these with your actual login and password\n",
    "login = \"mohammed@skylightad.com\"\n",
    "password = \"4b463a5249535fb1\"\n",
    "\n",
    "# Combine login and password with a colon\n",
    "credentials = f\"{login}:{password}\"\n",
    "\n",
    "# Encode the credentials to bytes\n",
    "credentials_bytes = credentials.encode('utf-8')\n",
    "\n",
    "# Base64 encode the bytes\n",
    "base64_credentials = base64.b64encode(credentials_bytes).decode('utf-8')\n",
    "\n",
    "print(\"Base64 Encoded Credentials:\", base64_credentials)\n"
   ]
  },
  {
   "cell_type": "code",
   "execution_count": null,
   "id": "4adf7b24",
   "metadata": {},
   "outputs": [],
   "source": []
  }
 ],
 "metadata": {
  "kernelspec": {
   "display_name": "base",
   "language": "python",
   "name": "python3"
  },
  "language_info": {
   "codemirror_mode": {
    "name": "ipython",
    "version": 3
   },
   "file_extension": ".py",
   "mimetype": "text/x-python",
   "name": "python",
   "nbconvert_exporter": "python",
   "pygments_lexer": "ipython3",
   "version": "3.11.5"
  }
 },
 "nbformat": 4,
 "nbformat_minor": 5
}
